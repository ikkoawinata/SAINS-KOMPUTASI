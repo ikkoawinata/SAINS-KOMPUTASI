{
  "nbformat": 4,
  "nbformat_minor": 0,
  "metadata": {
    "colab": {
      "provenance": [],
      "authorship_tag": "ABX9TyM8dPHMARnehoTZnbYABH9t",
      "include_colab_link": true
    },
    "kernelspec": {
      "name": "python3",
      "display_name": "Python 3"
    },
    "language_info": {
      "name": "python"
    }
  },
  "cells": [
    {
      "cell_type": "markdown",
      "metadata": {
        "id": "view-in-github",
        "colab_type": "text"
      },
      "source": [
        "<a href=\"https://colab.research.google.com/github/ikkoawinata/ikkoawinata.github.io/blob/ikkoawinata.github.io/SAINS%20KOMPUTASI%20(Tugas)Teknik_Komputasi.ipynb\" target=\"_parent\"><img src=\"https://colab.research.google.com/assets/colab-badge.svg\" alt=\"Open In Colab\"/></a>"
      ]
    },
    {
      "cell_type": "code",
      "execution_count": null,
      "metadata": {
        "colab": {
          "base_uri": "https://localhost:8080/"
        },
        "id": "UeecR3bz6Ic_",
        "outputId": "715ad584-7c27-4b3b-f4e0-418a1ffc0fa3"
      },
      "outputs": [
        {
          "output_type": "stream",
          "name": "stdout",
          "text": [
            "Praktek (1) : Lakukan operasi penjumlahan pada Matrik A dan B\n",
            "----------------------------\n",
            "Matriks A : \n",
            "[[8. 5. 6.]\n",
            " [4. 5. 2.]\n",
            " [9. 7. 6.]]\n",
            "\n",
            "Matriks B : \n",
            "[[5. 5. 6.]\n",
            " [4. 5. 2.]\n",
            " [9. 7. 6.]]\n",
            "\n",
            "Hasil Penjumlahan Matriks A + Matriks B : \n",
            "[[13. 10. 12.]\n",
            " [ 8. 10.  4.]\n",
            " [18. 14. 12.]]\n",
            "\n",
            "Praktek (2) : Lakukan operasi pengurangan pada Matrik A dan B\n",
            "----------------------------\n",
            "Matriks A : \n",
            "[[8. 5. 6.]\n",
            " [4. 5. 2.]\n",
            " [9. 7. 6.]]\n",
            "\n",
            "Matriks B : \n",
            "[[5. 5. 6.]\n",
            " [4. 5. 2.]\n",
            " [9. 7. 6.]]\n",
            "\n",
            "Hasil pengurangan Matriks A + Matriks B : \n",
            "[[3. 0. 0.]\n",
            " [0. 0. 0.]\n",
            " [0. 0. 0.]]\n"
          ]
        }
      ],
      "source": [
        "from numpy import array\n",
        "print(\"Praktek (1) : Lakukan operasi penjumlahan pada Matrik A dan B\")\n",
        "print(\"----------------------------\")\n",
        "MatrikA = array([[8.,5.,6],\\\n",
        "                [4.,5.,2],\\\n",
        "                [9.,7.,6]])\n",
        "print(\"Matriks A : \")\n",
        "print (MatrikA)\n",
        "print()\n",
        "MatrikB = array([[5.,5.,6],\\\n",
        "    [4.,5.,2],\\\n",
        "        [9.,7.,6]])\n",
        "print(\"Matriks B : \")\n",
        "print (MatrikB)\n",
        "\n",
        "print()\n",
        "print(\"Hasil Penjumlahan Matriks A + Matriks B : \")\n",
        "hasil = MatrikA + MatrikB\n",
        "print(hasil)\n",
        "\n",
        "print()\n",
        "print(\"Praktek (2) : Lakukan operasi pengurangan pada Matrik A dan B\")\n",
        "print(\"----------------------------\")\n",
        "MatrikA = array([[8.,5.,6],\\\n",
        "                [4.,5.,2],\\\n",
        "                [9.,7.,6]])\n",
        "print(\"Matriks A : \")\n",
        "print (MatrikA)\n",
        "print()\n",
        "MatrikB = array([[5.,5.,6],\\\n",
        "    [4.,5.,2],\\\n",
        "        [9.,7.,6]])\n",
        "print(\"Matriks B : \")\n",
        "print (MatrikB)\n",
        "\n",
        "print()\n",
        "print(\"Hasil pengurangan Matriks A + Matriks B : \")\n",
        "hasil = MatrikA - MatrikB\n",
        "print(hasil)"
      ]
    },
    {
      "cell_type": "code",
      "source": [
        "from numpy import array , zeros\n",
        "print(\"Praktek (3) : Apa luaran (output) dari perintah berikut !\")\n",
        "A = array([[3.,8.,5],\\\n",
        "           [6.,4.,7]]) # berukuran 2x3\n",
        "print()\n",
        "C = array ([[9.,5.,3],\\\n",
        "            [7.,2.,1]]) #C berukuran 2x3\n",
        "n = 2\n",
        "m = 3\n",
        "D = zeros((n,m))\n",
        "\n",
        "for i in range (0,n):\n",
        "  for j in range ( 0,m):\n",
        "    D[i][j] = A[i][j] + C[i][j]\n",
        "    print( D)"
      ],
      "metadata": {
        "colab": {
          "base_uri": "https://localhost:8080/"
        },
        "id": "lhuBl6fv9cvU",
        "outputId": "5062faa7-7b4d-4406-c82a-05c8686f20c8"
      },
      "execution_count": null,
      "outputs": [
        {
          "output_type": "stream",
          "name": "stdout",
          "text": [
            "Praktek (3) : Apa luaran (output) dari perintah berikut !\n",
            "\n",
            " [[12.  0.  0.]\n",
            " [ 0.  0.  0.]]\n",
            " [[12. 13.  0.]\n",
            " [ 0.  0.  0.]]\n",
            " [[12. 13.  8.]\n",
            " [ 0.  0.  0.]]\n",
            " [[12. 13.  8.]\n",
            " [13.  0.  0.]]\n",
            " [[12. 13.  8.]\n",
            " [13.  6.  0.]]\n",
            " [[12. 13.  8.]\n",
            " [13.  6.  8.]]\n"
          ]
        }
      ]
    },
    {
      "cell_type": "code",
      "source": [
        "from numpy import array, zeros\n",
        "print(\"Praktek (4): Operasi komputasi apa yang dilakukan oleh listing \")\n",
        "print(\"berikut ini dan tulis outputnya !\")\n",
        "A = array([[3.,8.,5.],\\\n",
        "           [6.,4.,7.]])# A berukuran 2x3\n",
        "print(\"\")\n",
        "B = array([[1.,3.],\\\n",
        "           [5.,9.],\\\n",
        "           [2.,4.]]) #B berukuran 3x2\n",
        "n = 2 # jumlah baris matrik A\n",
        "m = 3 # jumlah kolom matrik A sekaligus jumlah baris matrik B\n",
        "p = 2 #jumlah kolom matriks B\n",
        "E = zeros((n,p))\n",
        "for i in range (0,n):\n",
        "  for j in range (0,p):\n",
        "     for k in range (0,m):\n",
        "      E[i][j] = E[i][j]+A[i][j] * B[k][j]\n",
        "      print(E)"
      ],
      "metadata": {
        "colab": {
          "base_uri": "https://localhost:8080/"
        },
        "id": "OwKUXxyz_I8G",
        "outputId": "28cadef9-571d-47a9-8b5c-6b30c9c3207a"
      },
      "execution_count": null,
      "outputs": [
        {
          "output_type": "stream",
          "name": "stdout",
          "text": [
            "Praktek (4): Operasi komputasi apa yang dilakukan oleh listing \n",
            "berikut ini dan tulis outputnya !\n",
            "\n",
            "[[3. 0.]\n",
            " [0. 0.]]\n",
            "[[18.  0.]\n",
            " [ 0.  0.]]\n",
            "[[24.  0.]\n",
            " [ 0.  0.]]\n",
            "[[24. 24.]\n",
            " [ 0.  0.]]\n",
            "[[24. 96.]\n",
            " [ 0.  0.]]\n",
            "[[ 24. 128.]\n",
            " [  0.   0.]]\n",
            "[[ 24. 128.]\n",
            " [  6.   0.]]\n",
            "[[ 24. 128.]\n",
            " [ 36.   0.]]\n",
            "[[ 24. 128.]\n",
            " [ 48.   0.]]\n",
            "[[ 24. 128.]\n",
            " [ 48.  12.]]\n",
            "[[ 24. 128.]\n",
            " [ 48.  48.]]\n",
            "[[ 24. 128.]\n",
            " [ 48.  64.]]\n"
          ]
        }
      ]
    },
    {
      "cell_type": "code",
      "source": [
        "from numpy import array, zeros\n",
        "print(\"Praktek (5): Operasi komputasi apa yang dilakukan oleh listing \")\n",
        "print(\"berikut ini dan tulis outputnya !\")\n",
        "A1 = array([[3.,8.,5.],\\\n",
        "            [6.,4.,7.]]) #A1 berukuran 2x3\n",
        "x = array([[2.],\\\n",
        "           [3.],\\\n",
        "           [4.]]) #vector x berukuran 3x1\n",
        "n = 2 #jumlah baris matriks A\n",
        "m = 3 #jumlah kolom matriks A sekaligus jumlah baris vector X\\\n",
        "E = zeros((n,1))\n",
        "for i in range(0,n):\n",
        "  for k in range(0,m):\n",
        "    E[i][0] = E[i][0] + A1 [i][k]*x[k][0]\n",
        "    print(E)\n"
      ],
      "metadata": {
        "colab": {
          "base_uri": "https://localhost:8080/"
        },
        "id": "21Jwwt3UCICo",
        "outputId": "01e94526-34d8-44fd-8a44-7d4dcabc7843"
      },
      "execution_count": null,
      "outputs": [
        {
          "output_type": "stream",
          "name": "stdout",
          "text": [
            "Praktek (5): Operasi komputasi apa yang dilakukan oleh listing \n",
            "berikut ini dan tulis outputnya !\n",
            "[[6.]\n",
            " [0.]]\n",
            "[[30.]\n",
            " [ 0.]]\n",
            "[[50.]\n",
            " [ 0.]]\n",
            "[[50.]\n",
            " [12.]]\n",
            "[[50.]\n",
            " [24.]]\n",
            "[[50.]\n",
            " [52.]]\n"
          ]
        }
      ]
    },
    {
      "cell_type": "code",
      "source": [
        "from numpy import array\n",
        "print(\"Praktek (6): Operasi komputasi apa yang dilakukan oleh listing \")\n",
        "print(\"berikut ini dan tulis outputnya !\")\n",
        "\n",
        "x = [[20, 9],\n",
        "     [8, 5],\n",
        "     [9, 8]]\n",
        "\n",
        "result = [[0, 0, 0],\n",
        "          [0, 0, 0]]\n",
        "\n",
        "# Iterasi baris\n",
        "for i in range(len(x)):\n",
        "    # Iterasi kolom\n",
        "    for j in range(len(x[0])):\n",
        "        result[j][i] = x[i][j]\n",
        "\n",
        "print(\"hasilnya adalah : \")\n",
        "for r in result:\n",
        "  print(r)\n"
      ],
      "metadata": {
        "colab": {
          "base_uri": "https://localhost:8080/"
        },
        "id": "m0_8Hgd6DtrM",
        "outputId": "3e863d3f-6bfd-4c60-be5e-847c0c53ca84"
      },
      "execution_count": null,
      "outputs": [
        {
          "output_type": "stream",
          "name": "stdout",
          "text": [
            "Praktek (6): Operasi komputasi apa yang dilakukan oleh listing \n",
            "berikut ini dan tulis outputnya !\n",
            "hasilnya adalah : \n",
            "[20, 8, 9]\n",
            "[9, 5, 8]\n"
          ]
        }
      ]
    },
    {
      "cell_type": "code",
      "source": [
        "print(\"Praktek (7): Operasi komputasi apa yang dilakukan oleh listing \")\n",
        "print(\"berikut ini dan tulis outputnya !\")\n",
        "a = 5\n",
        "b = 6\n",
        "c = 7\n",
        "y = a * 2 + b * 3 + c * 4\n",
        "print(\"hasil dari (y =  a * 2 + b * 3 + c * 4 ) adalah : \")\n",
        "print(y)\n",
        "\n"
      ],
      "metadata": {
        "colab": {
          "base_uri": "https://localhost:8080/"
        },
        "id": "Irtsys_YGhE8",
        "outputId": "6a8095d7-63df-4d9a-a375-6e2c7fd43543"
      },
      "execution_count": null,
      "outputs": [
        {
          "output_type": "stream",
          "name": "stdout",
          "text": [
            "Praktek (7): Operasi komputasi apa yang dilakukan oleh listing \n",
            "berikut ini dan tulis outputnya !\n",
            "hasil dari (y =  a * 2 + b * 3 + c * 4 ) adalah : \n",
            "56\n"
          ]
        }
      ]
    },
    {
      "cell_type": "code",
      "source": [
        "print(\"Praktek (8): Operasi komputasi apa yang dilakukan oleh listing \")\n",
        "print(\"berikut ini dan tulis outputnya !\")\n",
        "def rumus (a,b):\n",
        "  y = 25*a+60*b\n",
        "  return y\n",
        "rumus (2,3)\n"
      ],
      "metadata": {
        "colab": {
          "base_uri": "https://localhost:8080/"
        },
        "id": "oMEKqzPaG6CA",
        "outputId": "8c89f8b8-53a1-4b92-9c3b-60ba76a9fd35"
      },
      "execution_count": null,
      "outputs": [
        {
          "output_type": "stream",
          "name": "stdout",
          "text": [
            "Praktek (8): Operasi komputasi apa yang dilakukan oleh listing \n",
            "berikut ini dan tulis outputnya !\n"
          ]
        },
        {
          "output_type": "execute_result",
          "data": {
            "text/plain": [
              "230"
            ]
          },
          "metadata": {},
          "execution_count": 92
        }
      ]
    },
    {
      "cell_type": "code",
      "source": [
        "print(\"Praktek (9): Operasi komputasi apa yang dilakukan oleh listing \")\n",
        "print(\"berikut ini dan tulis outputnya !\")\n",
        "class Matematika():\n",
        "    def rumus1(a, b, c):\n",
        "        y = a * 2 + b * 3 + c * 4\n",
        "        return y\n",
        "print(\"hasilnya adalah \" , Matematika.rumus1(5, 6, 7))\n",
        "\n"
      ],
      "metadata": {
        "colab": {
          "base_uri": "https://localhost:8080/"
        },
        "id": "T8NZ5hAkIoFw",
        "outputId": "7c790047-3f5b-49ea-91d3-7b52cf50d86b"
      },
      "execution_count": null,
      "outputs": [
        {
          "output_type": "stream",
          "name": "stdout",
          "text": [
            "Praktek (9): Operasi komputasi apa yang dilakukan oleh listing \n",
            "berikut ini dan tulis outputnya !\n",
            "hasilnya adalah  56\n"
          ]
        }
      ]
    },
    {
      "cell_type": "code",
      "source": [
        "print(\"Praktek (10): Operasi komputasi apa yang dilakukan oleh listing \")\n",
        "print(\"berikut ini dan tulis outputnya !\")\n",
        "class Matematika():\n",
        "    def rumus2(a, b, c):\n",
        "        x = a * 2 + b * 3 + c * 4\n",
        "        y = a*b*c\n",
        "        return x,y\n",
        "print(\"hasilnya adalah : \" , Matematika.rumus2(5, 6, 7))"
      ],
      "metadata": {
        "colab": {
          "base_uri": "https://localhost:8080/"
        },
        "id": "S5IuTvyjMJ3c",
        "outputId": "0ff8a533-2d8f-42f9-e75b-b9efd66fb0bd"
      },
      "execution_count": null,
      "outputs": [
        {
          "output_type": "stream",
          "name": "stdout",
          "text": [
            "Praktek (10): Operasi komputasi apa yang dilakukan oleh listing \n",
            "berikut ini dan tulis outputnya !\n",
            "hasilnya adalah :  (56, 210)\n"
          ]
        }
      ]
    },
    {
      "cell_type": "code",
      "source": [
        "print(\"Praktek (11): Operasi komputasi apa yang dilakukan oleh listing \")\n",
        "print(\"berikut ini dan tulis outputnya !\")\n",
        "class Matematika():\n",
        "    def rumus3(a, b, c):\n",
        "        x = a * 6 + b * 8 + c * 8\n",
        "        return x\n",
        "\n",
        "    def rumus4(a, b, c):\n",
        "        x = a * 2 + b * 3 + c * 4\n",
        "        y = a * b * c\n",
        "        return x, y\n",
        "\n",
        "print(\"hasil rumus 3 adalah = \" , Matematika.rumus3(1, 1, 1))\n",
        "print(\"hasil rumus 4 adalah = \" , Matematika.rumus4(2, 2, 2))\n"
      ],
      "metadata": {
        "colab": {
          "base_uri": "https://localhost:8080/"
        },
        "id": "zSzaS6kqM2f6",
        "outputId": "0aefecb2-e062-4ee4-dc98-b43d6b8d1353"
      },
      "execution_count": null,
      "outputs": [
        {
          "output_type": "stream",
          "name": "stdout",
          "text": [
            "Praktek (11): Operasi komputasi apa yang dilakukan oleh listing \n",
            "berikut ini dan tulis outputnya !\n",
            "hasil rumus 3 adalah =  22\n",
            "hasil rumus 4 adalah =  (18, 8)\n"
          ]
        }
      ]
    },
    {
      "cell_type": "code",
      "source": [
        "print(\"Praktek (12): Operasi komputasi apa yang dilakukan oleh listing \")\n",
        "print(\"berikut ini dan tulis outputnya !\")\n",
        "def rumus3 (a,b,c):\n",
        "  x = a*6+b*8+c*8\n",
        "  return x\n",
        "print(\"hasilnya adalah : \" ,rumus3(1,1,1))\n"
      ],
      "metadata": {
        "colab": {
          "base_uri": "https://localhost:8080/"
        },
        "id": "7V8P_BkIPd84",
        "outputId": "8d582173-cc1e-4da3-8ce6-82a9be1e87c3"
      },
      "execution_count": null,
      "outputs": [
        {
          "output_type": "stream",
          "name": "stdout",
          "text": [
            "Praktek (12): Operasi komputasi apa yang dilakukan oleh listing \n",
            "berikut ini dan tulis outputnya !\n",
            "hasilnya adalah :  22\n"
          ]
        }
      ]
    }
  ]
}